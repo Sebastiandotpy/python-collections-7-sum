{
 "cells": [
  {
   "cell_type": "code",
   "execution_count": 3,
   "metadata": {},
   "outputs": [
    {
     "name": "stdout",
     "output_type": "stream",
     "text": [
      "73\n"
     ]
    }
   ],
   "source": [
    "dict1 = {'a': 4, 'b': 16, 'c': 3}\n",
    "dict2 = {'a': 8, 'b': 2, 'c': 3}\n",
    "\n",
    "result = sum([dict1[key] * dict2[key] for key in dict1])\n",
    "\n",
    "print(result)"
   ]
  },
  {
   "cell_type": "code",
   "execution_count": 4,
   "metadata": {},
   "outputs": [
    {
     "name": "stdout",
     "output_type": "stream",
     "text": [
      "73\n"
     ]
    }
   ],
   "source": [
    "dict1 = {'a': 4, 'b': 16, 'c': 3}\n",
    "dict2 = {'a': 8, 'b': 2, 'c': 3}\n",
    "\n",
    "result = 0\n",
    "for key in dict1:\n",
    "    result += dict1[key] * dict2[key]\n",
    "\n",
    "print(result)    "
   ]
  },
  {
   "cell_type": "code",
   "execution_count": null,
   "metadata": {},
   "outputs": [],
   "source": []
  }
 ],
 "metadata": {
  "kernelspec": {
   "display_name": "Python 3",
   "language": "python",
   "name": "python3"
  },
  "language_info": {
   "codemirror_mode": {
    "name": "ipython",
    "version": 3
   },
   "file_extension": ".py",
   "mimetype": "text/x-python",
   "name": "python",
   "nbconvert_exporter": "python",
   "pygments_lexer": "ipython3",
   "version": "3.11.3"
  },
  "orig_nbformat": 4
 },
 "nbformat": 4,
 "nbformat_minor": 2
}
